{
 "cells": [
  {
   "cell_type": "code",
   "execution_count": 9,
   "metadata": {},
   "outputs": [
    {
     "data": {
      "text/plain": [
       "73"
      ]
     },
     "execution_count": 9,
     "metadata": {},
     "output_type": "execute_result"
    }
   ],
   "source": [
    "##############----ASSIGNMENT 2----############\n",
    "############-----TASK 1------##########\n",
    "\n",
    "#1.1 MyReduce\n",
    "\n",
    "def myReduce(fun,seq):\n",
    "    x=seq[0]\n",
    "    y=seq[1]\n",
    "    i=1\n",
    "    while True:        \n",
    "        x=fun(x,y)\n",
    "        i=i+1\n",
    "        if(i>len(seq)-1):\n",
    "            break\n",
    "        y=seq[i]\n",
    "    return x\n",
    "\n",
    "def sum(a,b):\n",
    "    return a+b\n",
    "\n",
    "l1=[1,5,8,3,4,44,8]\n",
    "\n",
    "myReduce(sum,l1)"
   ]
  },
  {
   "cell_type": "code",
   "execution_count": 10,
   "metadata": {},
   "outputs": [
    {
     "data": {
      "text/plain": [
       "[2, 4, 6, 8]"
      ]
     },
     "execution_count": 10,
     "metadata": {},
     "output_type": "execute_result"
    }
   ],
   "source": [
    "#1.2 MyFilter\n",
    "\n",
    "def myFilter(fun,seq):\n",
    "    for i in seq:\n",
    "        if(fun(i)):\n",
    "            yield i\n",
    "\n",
    "def checkEven(n):\n",
    "    if(n%2==0):\n",
    "        return True\n",
    "    else:\n",
    "        return False\n",
    "    \n",
    "l1=[1,2,3,4,5,6,7,8,9]\n",
    "\n",
    "list(myFilter(checkEven,l1,))\n"
   ]
  },
  {
   "cell_type": "code",
   "execution_count": 18,
   "metadata": {},
   "outputs": [
    {
     "data": {
      "text/plain": [
       "['A', 'C', 'A', 'D', 'G', 'I', 'L', 'D']"
      ]
     },
     "execution_count": 18,
     "metadata": {},
     "output_type": "execute_result"
    }
   ],
   "source": [
    "#2 list comprehension\n",
    "\n",
    "[i for i in 'ACADGILD']"
   ]
  },
  {
   "cell_type": "code",
   "execution_count": 12,
   "metadata": {},
   "outputs": [
    {
     "data": {
      "text/plain": [
       "['x', 'xx', 'xxx', 'xxxx', 'y', 'yy', 'yyy', 'yyyy', 'z', 'zz', 'zzz', 'zzzz']"
      ]
     },
     "execution_count": 12,
     "metadata": {},
     "output_type": "execute_result"
    }
   ],
   "source": [
    "[i*j for i in 'xyz' for j in range(1,5)]"
   ]
  },
  {
   "cell_type": "code",
   "execution_count": 14,
   "metadata": {},
   "outputs": [
    {
     "data": {
      "text/plain": [
       "['x', 'y', 'z', 'xx', 'yy', 'zz', 'xxx', 'yyy', 'zzz', 'xxxx', 'yyyy', 'zzzz']"
      ]
     },
     "execution_count": 14,
     "metadata": {},
     "output_type": "execute_result"
    }
   ],
   "source": [
    "[i*j for j in range(1,5) for i in 'xyz']"
   ]
  },
  {
   "cell_type": "code",
   "execution_count": 15,
   "metadata": {},
   "outputs": [
    {
     "data": {
      "text/plain": [
       "[[2], [3], [4], [3], [4], [5], [4], [5], [6]]"
      ]
     },
     "execution_count": 15,
     "metadata": {},
     "output_type": "execute_result"
    }
   ],
   "source": [
    "[[i+j] for i in range(2,5) for j in range(0,3)]"
   ]
  },
  {
   "cell_type": "code",
   "execution_count": 21,
   "metadata": {},
   "outputs": [
    {
     "data": {
      "text/plain": [
       "[[2, 3, 4, 5], [3, 4, 5, 6], [4, 5, 6, 7], [5, 6, 7, 8]]"
      ]
     },
     "execution_count": 21,
     "metadata": {},
     "output_type": "execute_result"
    }
   ],
   "source": [
    "[[i+j for i in range(2,6)] for j in range(0,4)]"
   ]
  },
  {
   "cell_type": "code",
   "execution_count": 17,
   "metadata": {},
   "outputs": [
    {
     "data": {
      "text/plain": [
       "[(1, 1), (1, 2), (1, 3), (2, 1), (2, 2), (2, 3), (3, 1), (3, 2), (3, 3)]"
      ]
     },
     "execution_count": 17,
     "metadata": {},
     "output_type": "execute_result"
    }
   ],
   "source": [
    "[(i,j) for i in [1,2,3] for j in [1,2,3]]"
   ]
  },
  {
   "cell_type": "code",
   "execution_count": 11,
   "metadata": {},
   "outputs": [
    {
     "data": {
      "text/plain": [
       "'hghghjfhj'"
      ]
     },
     "execution_count": 11,
     "metadata": {},
     "output_type": "execute_result"
    }
   ],
   "source": [
    "#3\n",
    "def longestWord(listOfWords):\n",
    "    longWord=listOfWords[0]\n",
    "    for i in listOfWords:\n",
    "        longWord= i if len(i)>len(longWord) else longWord\n",
    "    return longWord\n",
    "\n",
    "l=['fgghjg','gqwmdvg','fdbf','hghghjfhj','hurhhjb','vvcbkabda']\n",
    "longestWord(l)"
   ]
  },
  {
   "cell_type": "code",
   "execution_count": 1,
   "metadata": {},
   "outputs": [
    {
     "name": "stdout",
     "output_type": "stream",
     "text": [
      "enter side1:3\n",
      "enter side2:4\n",
      "enter side3:5\n"
     ]
    },
    {
     "data": {
      "text/plain": [
       "6.0"
      ]
     },
     "execution_count": 1,
     "metadata": {},
     "output_type": "execute_result"
    }
   ],
   "source": [
    "############---TASK 2---##############\n",
    "\n",
    "#1.1\n",
    "\n",
    "class AreaOfTriangle:\n",
    "    def __init__(this):\n",
    "        this.a=int(input(\"enter side1:\"))\n",
    "        this.b=int(input(\"enter side2:\"))\n",
    "        this.c=int(input(\"enter side3:\"))\n",
    "    def __str__(this):\n",
    "        return \"the three sides are:%d %d %d\" %(this.a,this.b,this.c)\n",
    "    \n",
    "class CalculateArea(AreaOfTriangle):\n",
    "    def calculate(this,*args):\n",
    "        s=(this.a+this.b+this.c)/2\n",
    "        return (s*(s-this.a)*(s-this.b)*(s-this.c))**0.5\n",
    "        \n",
    "\n",
    "obj=CalculateArea()\n",
    "obj.calculate()\n",
    "\n",
    "    \n"
   ]
  },
  {
   "cell_type": "code",
   "execution_count": 2,
   "metadata": {},
   "outputs": [
    {
     "data": {
      "text/plain": [
       "['gdhfg', 'twrwe', 'EWRTREWTE']"
      ]
     },
     "execution_count": 2,
     "metadata": {},
     "output_type": "execute_result"
    }
   ],
   "source": [
    "\n",
    "#1.2\n",
    "\n",
    "def filter_long_words(listOfWords,length):\n",
    "    new_list=[]\n",
    "    for i in listOfWords:\n",
    "        if(len(i)>length):\n",
    "            new_list.append(i)\n",
    "    return new_list\n",
    "\n",
    "filter_long_words(['gdhfg','tet','ryry','egsg','twrwe','EWRTREWTE'],4)\n",
    "\n",
    "        "
   ]
  },
  {
   "cell_type": "code",
   "execution_count": 3,
   "metadata": {},
   "outputs": [
    {
     "data": {
      "text/plain": [
       "[1, 2, 3, 4]"
      ]
     },
     "execution_count": 3,
     "metadata": {},
     "output_type": "execute_result"
    }
   ],
   "source": [
    "#2.1\n",
    "\n",
    "def getLength(wordList):\n",
    "    newList=[]\n",
    "    for i in wordList:\n",
    "        newList.append(len(i))\n",
    "    return newList\n",
    "getLength(['a','ab','abc','abcd'])"
   ]
  },
  {
   "cell_type": "code",
   "execution_count": 10,
   "metadata": {},
   "outputs": [
    {
     "data": {
      "text/plain": [
       "True"
      ]
     },
     "execution_count": 10,
     "metadata": {},
     "output_type": "execute_result"
    }
   ],
   "source": [
    "#2.2\n",
    "\n",
    "def checkVowel(char):\n",
    "    if(len(char)==1):\n",
    "        if(char=='a'or char=='e' or char=='i' or char=='o' or char=='u' or \n",
    "            char=='A'or char=='E' or char=='I' or char=='O' or char=='U'):\n",
    "            return True \n",
    "        else:\n",
    "            return False\n",
    "    else:\n",
    "        print(\"enter string is not a character\")\n",
    "checkVowel('U')"
   ]
  }
 ],
 "metadata": {
  "kernelspec": {
   "display_name": "Python 3",
   "language": "python",
   "name": "python3"
  },
  "language_info": {
   "codemirror_mode": {
    "name": "ipython",
    "version": 3
   },
   "file_extension": ".py",
   "mimetype": "text/x-python",
   "name": "python",
   "nbconvert_exporter": "python",
   "pygments_lexer": "ipython3",
   "version": "3.7.6"
  }
 },
 "nbformat": 4,
 "nbformat_minor": 4
}
